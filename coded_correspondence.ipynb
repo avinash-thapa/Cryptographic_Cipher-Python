{
 "cells": [
  {
   "cell_type": "markdown",
   "metadata": {},
   "source": [
    "# Off-Platform Project: Coded Correspondence\n",
    "\n",
    "You and your pen pal, Vishal, have been exchanging letters for some time now. Recently, he has become interested in cryptography and the two of you have started sending encoded messages within your letters.\n",
    "\n",
    "In this project, you will use your Python skills to decipher the messages you receive and to encode your own responses! Put your programming skills to the test with these fun cryptography puzzles. Here is his most recent letter:\n",
    "\n",
    "    Hey there! How have you been? I've been great! I just learned about this really cool type of cipher called a Caesar Cipher. Here's how it works: You take your message, something like \"hello\" and then you shift all of the letters by a certain offset. \n",
    "\n",
    "    For example, if I chose an offset of 3 and a message of \"hello\", I would encode my message by shifting each letter 3 places to the left with respect to the alphabet. So \"h\" becomes \"e\", \"e\" becomes \"b\", \"l\" becomes \"i\", and \"o\" becomes \"l\". Then I have my encoded message, \"ebiil\"! Now I can send you my message and the offset and you can decode it by shifting each letter 3 places to the right. The best thing is that Julius Caesar himself used this cipher, that's why it's called the Caesar Cipher! Isn't that so cool! Okay, now I'm going to send you a longer encoded message that you have to decode yourself!\n",
    "    \n",
    "        xuo jxuhu! jxyi yi qd unqcfbu ev q squiqh syfxuh. muhu oek qrbu je tusetu yj? y xefu ie! iudt cu q cuiiqwu rqsa myjx jxu iqcu evviuj!\n",
    "    \n",
    "    This message has an offset of 10. Can you decode it?\n",
    "    \n",
    "\n",
    "#### Step 1: Decode Vishal's Message\n",
    "In the cell below, use your Python skills to decode Vishal's message and print the result."
   ]
  },
  {
   "cell_type": "markdown",
   "metadata": {},
   "source": [
    "Stuck? Open this cell to view Hints: \n",
    "\n",
    "<span hidden>\n",
    "You can account for shifts that go past the end of the alphabet using the modulus operator, but I'll let you figure out how!\n",
    "\n",
    "Watch out for spaces and punctuation! Your code should only shift characters that are in the alphabet.\n",
    "\n",
    "You'll want to find a way to represent the letters of the alphabet as numbers, where `a = 0`, `b = 1`, etc. Remember, the characters of a string can be accessed with integer indices.\n",
    "</span>"
   ]
  },
  {
   "cell_type": "code",
   "execution_count": 1,
   "metadata": {},
   "outputs": [
    {
     "name": "stdout",
     "output_type": "stream",
     "text": [
      "hey there! this is an example of a caesar cipher. were you able to decode it? i hope so! send me a message back with the same offset!\n"
     ]
    }
   ],
   "source": [
    "\n",
    "# Create the initial list of all the alphabets (Total of 26 characters, index: 0-25). \n",
    "alphabet = \"a,b,c,d,e,f,g,h,i,j,k,l,m,n,o,p,q,r,s,t,u,v,w,x,y,z\"\n",
    "alphabet_list = alphabet.split(\",\")\n",
    "\n",
    "# print(alphabet_list)                              \n",
    "\n",
    "# Create a function to decode a character. The argument is the letter we want to decode. Default: Offset value = 10\n",
    "def decoding_function(changing_letter):\n",
    "    i = 0\n",
    "    # Using for loop: iterate through each letter in the alphabet until a match is found. \n",
    "    # The value of i is important to identify the index of this letter\n",
    "    # Use break to stop the loop if a character matches one of the letter in the alphabet list.\n",
    "    for letter in alphabet_list:\n",
    "        if letter == changing_letter:\n",
    "            break                               \n",
    "        i += 1\n",
    "\n",
    "    # Now using if, elif, and else statement, we want to identify the exact decoding letter after adding in the offset value=10\n",
    "    # When adding +10 offset, we risk overflow of the index value as it can go over 25\n",
    "    # So, I have used constraints that goes up to i=25, and then loops back from i=0 again.\n",
    "    if i < 16:                                      \n",
    "        decode_value = alphabet_list[i+10]\n",
    "    # Special circumstance for any characters that is not a letter, just return this character. Ex: (!,?)\n",
    "    elif i > 25:                                    \n",
    "        return changing_letter\n",
    "    else: \n",
    "        decode_value = alphabet_list[i-16]\n",
    "\n",
    "    return decode_value\n",
    "\n",
    "\n",
    "# Assign a variable to the coded message sent by Vishal\n",
    "coded_message = \"xuo jxuhu! jxyi yi qd unqcfbu ev q squiqh syfxuh. muhu oek qrbu je tusetu yj? y xefu ie! iudt cu q cuiiqwu rqsa myjx jxu iqcu evviuj!\"\n",
    "\n",
    "# Using for loop, go through each character in the coded message and then call the function that decodes each character. \n",
    "# Append each of the decoded character to the decoded_list to provide the decoded message\n",
    "decoded_list = []\n",
    "for character in coded_message:\n",
    "    decoded_list.append(decoding_function(character))\n",
    "\n",
    "# Convert decoded message list to a string\n",
    "decoded_message = \"\".join(decoded_list)\n",
    "\n",
    "# Print the decoded message\n",
    "print(decoded_message)                              "
   ]
  },
  {
   "cell_type": "markdown",
   "metadata": {},
   "source": [
    "#### Step 2: Send Vishal a Coded Message\n",
    "Great job! Now send Vishal back a message using the same offset. Your message can be anything you want! Remember, encoding happens in opposite direction of decoding."
   ]
  },
  {
   "cell_type": "code",
   "execution_count": 2,
   "metadata": {},
   "outputs": [
    {
     "name": "stdout",
     "output_type": "stream",
     "text": [
      "xuo! y mqi qrbu je tusetu yj. jxqda oek veh jxu cuiiqwu!\n"
     ]
    }
   ],
   "source": [
    "# Define a function that encodes a message as a coded message. Opposite of the function above that decodes\n",
    "def encoding_function(letter_to_change):\n",
    "    i = 0\n",
    "    # Using for loop: iterate through each letter in the alphabet until a match is found. \n",
    "    # The value of i is important to identify the index of this letter\n",
    "    for letter in alphabet_list:\n",
    "        if letter == letter_to_change:\n",
    "            break                                  \n",
    "        i += 1\n",
    "\n",
    "    # Now using if and else statement, we want to identify the exact decoding letter after adding in offset value of 10.\n",
    "    # No need to worry about overflow now because we are subtracting the number, Python is able to read negative numbers as index. \n",
    "    # Else statement is for characters that are not letters. Just return this character\n",
    "    if i <= 25:                                      \n",
    "        decode_value = alphabet_list[i-10]\n",
    "    else:                                          \n",
    "        return letter_to_change\n",
    "    return decode_value\n",
    "\n",
    "# Assign a variable to the message I want to send back to Vishal\n",
    "message_to_send = \"hey! i was able to decode it. thank you for the message!\"\n",
    "\n",
    "# Using a for loop, go through each character from my message and then call the function that ciphers each character.\n",
    "# Then append this list of encoded characters to the coded_list\n",
    "coded_list = []\n",
    "for character in message_to_send:\n",
    "    coded_list.append(encoding_function(character))\n",
    "\n",
    "# Using join string method, we convert the list into a string of encoded message\n",
    "coded_message = \"\".join(coded_list)                \n",
    "\n",
    "# Prints the coded_message\n",
    "print(coded_message)                               \n"
   ]
  },
  {
   "cell_type": "markdown",
   "metadata": {},
   "source": [
    "#### Step 3: Make functions for decoding and coding \n",
    "\n",
    "Vishal sent over another reply, this time with two coded messages!\n",
    "    \n",
    "    You're getting the hang of this! Okay here are two more messages, the first one is coded just like before with an offset of ten, and it contains a hint for decoding the second message!\n",
    "\n",
    "    First message:\n",
    "    \n",
    "        jxu evviuj veh jxu iusedt cuiiqwu yi vekhjuud.\n",
    "        \n",
    "    Second message:\n",
    "    \n",
    "        bqdradyuzs ygxfubxq omqemd oubtqde fa oapq kagd yqeemsqe ue qhqz yadq eqogdq!\n",
    "    \n",
    "Decode both of these messages. \n",
    "\n",
    "If you haven't already, define two functions `caesar_decode(message, offset)` and `caesar_encode(message, offset)` that can be used to quickly decode and encode messages given any offset."
   ]
  },
  {
   "cell_type": "code",
   "execution_count": 9,
   "metadata": {},
   "outputs": [
    {
     "name": "stdout",
     "output_type": "stream",
     "text": [
      "the offset for the second message is fourteen.\n"
     ]
    }
   ],
   "source": [
    "# Above functions only work for decoding and encoding messages with offset of 10\n",
    "\n",
    "# Now creating a function that takes in any message and any offset for decoding. Returns a decoded message (Caesar Cipher)\n",
    "def caesar_decode(message,offset):\n",
    "    \n",
    "    # Goal for the below \"for loop\" is to go through each character in the message\n",
    "    decoded_list = []\n",
    "    i = 0\n",
    "    for character in message:\n",
    "        # if/else used to check if the character is an alphabet or not. We only want to decode alphabets!!\n",
    "        if character in alphabet_list:\n",
    "            # Another for loop added to go through the alphabet list to find the match\n",
    "            for letter in alphabet_list:\n",
    "                # if match is found, we want to decode based on the offset value. Once match is found, we also break loop\n",
    "                if character == letter:\n",
    "                    if (i+offset) < 25:\n",
    "                        decoded_list.append(alphabet_list[i+offset])\n",
    "                    # Else statemet to ensure that index doesn't run out, and repeat list again\n",
    "                    else:\n",
    "                        decoded_list.append(alphabet_list[i-(26-offset)])               \n",
    "                    break\n",
    "                else:\n",
    "                    i += 1\n",
    "            i = 0\n",
    "        # If the character in message is not an alphabet, just add this original character to the list\n",
    "        else:\n",
    "            decoded_list.append(character)\n",
    "\n",
    "    # Now we have decoded message in list format so, turn it into a string\n",
    "    decoded_message = \"\".join(decoded_list)\n",
    "    return decoded_message\n",
    "\n",
    "# Now creating a function that takes in any message and any offset for encoding purpose. Returns a encoded message (Caesar Cipher)\n",
    "def caesar_encode(message,offset):\n",
    "    encoded_list = []\n",
    "    i = 0\n",
    "    # It's the opposite of decoding so, now we just have to subtract the index value of the letter with the offset\n",
    "    # And due to subtraction and index can be negative, there is no worries for overflow \n",
    "    for character in message:\n",
    "        if character in alphabet_list:\n",
    "            for letter in alphabet_list:\n",
    "                if character == letter:\n",
    "                    encoded_list.append(alphabet_list[i-offset])\n",
    "                    break\n",
    "                else:\n",
    "                    i += 1\n",
    "            i = 0\n",
    "        else:\n",
    "            encoded_list.append(character)\n",
    "    \n",
    "    # Return the encoded message as string by turning the encoded list to a string using \"join\"\n",
    "    encoded_message = \"\".join(encoded_list)\n",
    "    return encoded_message\n",
    "\n",
    "# This is the first message we want to decode from Vishal using the decode function that takes both message and offset\n",
    "print(caesar_decode(\"jxu evviuj veh jxu iusedt cuiiqwu yi vekhjuud.\", 10))\n"
   ]
  },
  {
   "cell_type": "code",
   "execution_count": 4,
   "metadata": {},
   "outputs": [
    {
     "name": "stdout",
     "output_type": "stream",
     "text": [
      "performing multiple caesar ciphers to code your messages is even more secure!\n"
     ]
    }
   ],
   "source": [
    "# Since the above message tells me to use offset of 14 to decode the second message, I shall use it:\n",
    "print(caesar_decode(\"bqdradyuzs ygxfubxq omqemd oubtqde fa oapq kagd yqeemsqe ue qhqz yadq eqogdq!\", 14))"
   ]
  },
  {
   "cell_type": "markdown",
   "metadata": {},
   "source": [
    "#### Step 4: Solving a Caesar Cipher without knowing the shift value\n",
    "\n",
    "Awesome work! While you were working to decode his last two messages, Vishal sent over another letter! He's really been bitten by the crypto-bug. Read it and see what interesting task he has lined up for you this time.\n",
    "\n",
    "    Hello again friend! I knew you would love the Caesar Cipher, it's a cool, simple way to encrypt messages. Did you know that back in Caesar's time, it was considered a very secure way of communication and it took a lot of effort to crack if you were unaware of the value of the shift? That's all changed with computers! Now we can brute force these kinds of ciphers very quickly, as I'm sure you can imagine.\n",
    "            \n",
    "    To test your cryptography skills, this next coded message is going to be harder than the last couple to crack. It's still going to be coded with a Caesar Cipher but this time I'm not going to tell you the value of the shift. You'll have to brute force it yourself.\n",
    "            \n",
    "    Here's the coded message:\n",
    "            \n",
    "        vhfinmxkl atox kxgwxkxw tee hy maxlx hew vbiaxkl hulhexmx. px'ee atox mh kxteer lmxi ni hnk ztfx by px ptgm mh dxxi hnk fxlltzxl ltyx.\n",
    "            \n",
    "    Good luck!\n",
    "            \n",
    "Decode Vishal's most recent message and see what it says!"
   ]
  },
  {
   "cell_type": "markdown",
   "metadata": {},
   "source": [
    "Stuck? Open this cell to view Hints: \n",
    "\n",
    "<span hidden>\n",
    "Since you don't know the cipher's offset, you'll need to try every possible option until you find the right one. Use a Python statement that will allow you to execute `caesar_decode()` multiple times with different `offset` arguments.\n",
    "</span>"
   ]
  },
  {
   "cell_type": "code",
   "execution_count": 5,
   "metadata": {},
   "outputs": [
    {
     "name": "stdout",
     "output_type": "stream",
     "text": [
      "vhfinmxkl atox kxgwxkxw tee hy maxlx hew vbiaxkl hulhexmx. px'ee atox mh kxteer lmxi ni hnk ztfx by px ptgm mh dxxi hnk fxlltzxl ltyx.\n",
      "wigjonylm bupy lyhxylyx uff iz nbymy ifx wcjbylm ivmifyny. qy'ff bupy ni lyuffs mnyj oj iol augy cz qy quhn ni eyyj iol gymmuaym muzy.\n",
      "xjhkpozmn cvqz mziyzmzy vgg ja ocznz jgy xdkczmn jwnjgzoz. rz'gg cvqz oj mzvggt nozk pk jpm bvhz da rz rvio oj fzzk jpm hznnvbzn nvaz.\n",
      "ykilqpano dwra najzanaz whh kb pdaoa khz yeldano kxokhapa. sa'hh dwra pk nawhhu opal ql kqn cwia eb sa swjp pk gaal kqn iaoowcao owba.\n",
      "zljmrqbop exsb obkaboba xii lc qebpb lia zfmebop lyplibqb. tb'ii exsb ql obxiiv pqbm rm lro dxjb fc tb txkq ql hbbm lro jbppxdbp pxcb.\n",
      "amknsrcpq fytc pclbcpcb yjj md rfcqc mjb agnfcpq mzqmjcrc. uc'jj fytc rm pcyjjw qrcn sn msp eykc gd uc uylr rm iccn msp kcqqyecq qydc.\n",
      "bnlotsdqr gzud qdmcdqdc zkk ne sgdrd nkc bhogdqr narnkdsd. vd'kk gzud sn qdzkkx rsdo to ntq fzld he vd vzms sn jddo ntq ldrrzfdr rzed.\n",
      "computers have rendered all of these old ciphers obsolete. we'll have to really step up our game if we want to keep our messages safe.\n",
      "dpnqvufst ibwf sfoefsfe bmm pg uiftf pme djqifst pctpmfuf. xf'mm ibwf up sfbmmz tufq vq pvs hbnf jg xf xbou up lffq pvs nfttbhft tbgf.\n",
      "eqorwvgtu jcxg tgpfgtgf cnn qh vjgug qnf ekrjgtu qduqngvg. yg'nn jcxg vq tgcnna uvgr wr qwt icog kh yg ycpv vq mggr qwt oguucigu uchg.\n",
      "frpsxwhuv kdyh uhqghuhg doo ri wkhvh rog flskhuv revrohwh. zh'oo kdyh wr uhdoob vwhs xs rxu jdph li zh zdqw wr nhhs rxu phvvdjhv vdih.\n",
      "gsqtyxivw lezi virhivih epp sj xliwi sph gmtlivw sfwspixi. ai'pp lezi xs vieppc wxit yt syv keqi mj ai aerx xs oiit syv qiwwekiw weji.\n",
      "htruzyjwx mfaj wjsijwji fqq tk ymjxj tqi hnumjwx tgxtqjyj. bj'qq mfaj yt wjfqqd xyju zu tzw lfrj nk bj bfsy yt pjju tzw rjxxfljx xfkj.\n",
      "iusvazkxy ngbk xktjkxkj grr ul znkyk urj iovnkxy uhyurkzk. ck'rr ngbk zu xkgrre yzkv av uax mgsk ol ck cgtz zu qkkv uax skyygmky yglk.\n",
      "jvtwbalyz ohcl yluklylk hss vm aolzl vsk jpwolyz vizvslal. dl'ss ohcl av ylhssf zalw bw vby nhtl pm dl dhua av rllw vby tlzzhnlz zhml.\n",
      "kwuxcbmza pidm zmvlmzml itt wn bpmam wtl kqxpmza wjawtmbm. em'tt pidm bw zmittg abmx cx wcz oium qn em eivb bw smmx wcz umaaioma ainm.\n",
      "lxvydcnab qjen anwmnanm juu xo cqnbn xum lryqnab xkbxuncn. fn'uu qjen cx anjuuh bcny dy xda pjvn ro fn fjwc cx tnny xda vnbbjpnb bjon.\n",
      "mywzedobc rkfo boxnobon kvv yp droco yvn mszrobc ylcyvodo. go'vv rkfo dy bokvvi cdoz ez yeb qkwo sp go gkxd dy uooz yeb wocckqoc ckpo.\n",
      "nzxafepcd slgp cpyopcpo lww zq espdp zwo ntaspcd zmdzwpep. hp'ww slgp ez cplwwj depa fa zfc rlxp tq hp hlye ez vppa zfc xpddlrpd dlqp.\n",
      "oaybgfqde tmhq dqzpqdqp mxx ar ftqeq axp oubtqde aneaxqfq. iq'xx tmhq fa dqmxxk efqb gb agd smyq ur iq imzf fa wqqb agd yqeemsqe emrq.\n",
      "pbzchgref unir eraqrerq nyy bs gurfr byq pvcuref bofbyrgr. jr'yy unir gb ernyyl fgrc hc bhe tnzr vs jr jnag gb xrrc bhe zrffntrf fnsr.\n",
      "qcadihsfg vojs fsbrsfsr ozz ct hvsgs czr qwdvsfg cpgczshs. ks'zz vojs hc fsozzm ghsd id cif uoas wt ks kobh hc yssd cif asggousg gots.\n",
      "rdbejitgh wpkt gtcstgts paa du iwtht das rxewtgh dqhdatit. lt'aa wpkt id gtpaan hite je djg vpbt xu lt lpci id ztte djg bthhpvth hput.\n",
      "secfkjuhi xqlu hudtuhut qbb ev jxuiu ebt syfxuhi eriebuju. mu'bb xqlu je huqbbo ijuf kf ekh wqcu yv mu mqdj je auuf ekh cuiiqwui iqvu.\n",
      "tfdglkvij yrmv iveuvivu rcc fw kyvjv fcu tzgyvij fsjfcvkv. nv'cc yrmv kf ivrccp jkvg lg fli xrdv zw nv nrek kf bvvg fli dvjjrxvj jrwv.\n",
      "ugehmlwjk zsnw jwfvwjwv sdd gx lzwkw gdv uahzwjk gtkgdwlw. ow'dd zsnw lg jwsddq klwh mh gmj ysew ax ow osfl lg cwwh gmj ewkksywk ksxw.\n",
      "\n",
      " computers have rendered all of these old ciphers obsolete. we'll have to really step up our game if we want to keep our messages safe.\n"
     ]
    }
   ],
   "source": [
    "# I will use the following loop to try all 26 different combination to see what the message is.\n",
    "\n",
    "i = 0\n",
    "while i < len(alphabet_list):\n",
    "    print(caesar_decode(\"vhfinmxkl atox kxgwxkxw tee hy maxlx hew vbiaxkl hulhexmx. px'ee atox mh kxteer lmxi ni hnk ztfx by px ptgm mh dxxi hnk fxlltzxl ltyx.\", i))\n",
    "    i += 1\n",
    "\n",
    "# Based on the brute force method, the identified shift value is 7.\n",
    "\n",
    "print(\"\\n\", caesar_decode(\"vhfinmxkl atox kxgwxkxw tee hy maxlx hew vbiaxkl hulhexmx. px'ee atox mh kxteer lmxi ni hnk ztfx by px ptgm mh dxxi hnk fxlltzxl ltyx.\", 7))\n"
   ]
  },
  {
   "cell_type": "markdown",
   "metadata": {},
   "source": [
    "#### Step 5: The Vigenère Cipher\n",
    "\n",
    "Great work! While you were working on the brute force cracking of the cipher, Vishal sent over another letter. That guy is a letter machine!\n",
    "\n",
    "    Salutations! As you can see, technology has made brute forcing simple ciphers like the Caesar Cipher extremely easy, and us crypto-enthusiasts have had to get more creative and use more complicated ciphers. This next cipher I'm going to teach you is the Vigenère Cipher, invented by an Italian cryptologist named Giovan Battista Bellaso (cool name eh?) in the 16th century, but named after another cryptologist from the 16th century, Blaise de Vigenère.\n",
    "            \n",
    "    The Vigenère Cipher is a polyalphabetic substitution cipher, as opposed to the Caesar Cipher which was a monoalphabetic substitution cipher. What this means is that opposed to having a single shift that is applied to every letter, the Vigenère Cipher has a different shift for each individual letter. The value of the shift for each letter is determined by a given keyword.\n",
    "           \n",
    "    Consider the message:\n",
    "           \n",
    "        barry is the spy\n",
    "\n",
    "    If we want to code this message, first we choose a keyword. For this example, we'll use the keyword\n",
    "           \n",
    "        dog\n",
    "               \n",
    "    Now we repeat the keyword over and over to generate a keyword phrase that is the same length as the message we want to code. So if we want to code the message \"barry is the spy\" our keyword phrase is \"dogdo gd ogd ogd\". Now we are ready to start coding our message. We shift each letter of our message by the place value of the corresponding letter in the keyword phrase, assuming that \"a\" has a place value of 0, \"b\" has a place value of 1, and so forth.\n",
    "\n",
    "                  message:    b  a  r  r  y    i  s    t  h  e    s  p  y\n",
    "                \n",
    "           keyword phrase:    d  o  g  d  o    g  d    o  g  d    o  g  d\n",
    "                 \n",
    "    resulting place value:    24 12 11 14 10   2  15   5  1  1    4  9  21\n",
    "      \n",
    "    So we shift \"b\", which has an index of 1, by the index of \"d\", which is 3. This gives us an place value of 24, which is \"y\". Remember to loop back around when we reach either end of the alphabet! Then continue the trend: we shift \"a\" by the place value of \"o\", 14, and get \"m\", we shift \"r\" by the place value of \"g\", 15, and get \"l\", shift the next \"r\" by 4 places and get \"o\", and so forth. Once we complete all the shifts we end up with our coded message:\n",
    "            \n",
    "        ymlok cp fbb ejv\n",
    "                \n",
    "    As you can imagine, this is a lot harder to crack without knowing the keyword! So now comes the hard part. I'll give you a message and the keyword, and you'll see if you can figure out how to crack it! Ready? Okay here's my message:\n",
    "            \n",
    "        txm srom vkda gl lzlgzr qpdb? fepb ejac! ubr imn tapludwy mhfbz cza ruxzal wg zztcgcexxch!\n",
    "                \n",
    "    and the keyword to decode my message is \n",
    "            \n",
    "        friends\n",
    "                \n",
    "    Because that's what we are! Good luck friend!\n",
    "           \n",
    "And there it is. Vishal has given you quite the assignment this time! Try to decode his message. It may be helpful to create a function that takes two parameters &mdash; the coded message and the keyword &mdash; then work towards a solution from there."
   ]
  },
  {
   "cell_type": "markdown",
   "metadata": {},
   "source": [
    "Stuck? Open this cell to view Hints: \n",
    "\n",
    "<span hidden>\n",
    "Like before, you'll only want to shift characters that are in the alphabet. Your keyword phrase should ignore any spaces and punctuation in the original message.\n",
    "\n",
    "For example, given the message\n",
    "\n",
    "  ciphers are awesome!\n",
    "\n",
    "and the keyword\n",
    "\n",
    "  cat\n",
    "\n",
    "the keyword phrase would be:\n",
    "\n",
    "  catcatc atc atcatca\n",
    "\n",
    "and the encoded string would be:\n",
    "\n",
    "  aiwfeyq ayc adcsvke!\n",
    "</span>"
   ]
  },
  {
   "cell_type": "code",
   "execution_count": 6,
   "metadata": {},
   "outputs": [
    {
     "name": "stdout",
     "output_type": "stream",
     "text": [
      "you were able to decode this? nice work! you are becoming quite the expert at crytography!\n"
     ]
    }
   ],
   "source": [
    "# Basically we start adding the value from the keyword phase to the original message. \n",
    "# Knowing that the caesar_encode value goes backwards, we can calculate the distance from orignial message to the keyword phase\n",
    "\n",
    "# I cracked the code to make a readable message a code. I need to figure out how to decode a message!!!! Let's try to make a function for encoding first that takes keyword and message as arguments\n",
    "\n",
    "def convert_string_to_list(string):\n",
    "    convert_list = []\n",
    "    for character in string:\n",
    "        convert_list.append(character)\n",
    "    return convert_list\n",
    "\n",
    "# This function translates the keyword characters to the message format\n",
    "def convert_message_to_keyword(message, keyword):   \n",
    "    message_list = convert_string_to_list(message)\n",
    "    keyword_list = convert_string_to_list(keyword)\n",
    "    convert_list = []\n",
    "    i = 0\n",
    "    j = 0\n",
    "    for character in message_list:\n",
    "        if character in alphabet_list:\n",
    "            convert_list.append(keyword_list[i])\n",
    "            i += 1\n",
    "            if i == len(keyword_list):\n",
    "                i = 0\n",
    "        else:\n",
    "            convert_list.append(character)\n",
    "    return convert_list\n",
    "\n",
    "\n",
    "# Use this function to find the index number of an alphabet in the alphabet list\n",
    "def find_character_index(character):\n",
    "    i = 0\n",
    "    for index in alphabet_list:\n",
    "        if index == character:\n",
    "            break\n",
    "        i += 1\n",
    "    return i\n",
    "\n",
    "\n",
    "# This function will return th lowecarse alphabet character associated with the index provided as argument\n",
    "# IMPORTANT: this function will only work if index is in the range of -27 < index < 52\n",
    "def find_character_based_on_index(index):\n",
    "    # For any index higher than 26, we need to make sure the index loops back from 0 when it goes over 25. This will be solved using the if/else statement\n",
    "    if index < 26:\n",
    "        return(alphabet_list[index])                                        # This is the basic index of 0-25 that goes from a-z; return the appropirate alphabet based on index\n",
    "    else:\n",
    "        return(alphabet_list[index - 26])                                   # If over 25, we use subtraction by 26 to loop back to \"a\" start over again; return appropriate alphabet\n",
    "            \n",
    "\n",
    "\n",
    "# This function will be used to return the string of the decoded message using the vigenere cipher. It will take in the (message to decode) and the (keyword) as arguments\n",
    "def decode_vigenere_cipher(decode_msg, keyword_to_use):\n",
    "    hello = convert_message_to_keyword(decode_msg, keyword_to_use)\n",
    "    i = 0\n",
    "    decoded_list = []\n",
    "    for character in hello:\n",
    "        if character in alphabet_list:\n",
    "            aaa = find_character_index(character)                               # This function calculates the index character value of the keyword turned to message list\n",
    "            bbb = find_character_index(decode_msg[i])                           # This function calculates the index character of the message to decode\n",
    "            decoded_list.append(find_character_based_on_index(aaa + bbb))       # This function helps identify the exact character after the summation of the two index above\n",
    "        else:\n",
    "            decoded_list.append(character)                                      # if character is not an alphabet, we do not need to replace it\n",
    "        i += 1\n",
    "    return \"\".join(decoded_list)                                                # return the string of the decoded message\n",
    "\n",
    "\n",
    "message_to_decode = \"txm srom vkda gl lzlgzr qpdb? fepb ejac! ubr imn tapludwy mhfbz cza ruxzal wg zztcgcexxch!\"\n",
    "keyword = \"friends\"\n",
    "\n",
    "print(decode_vigenere_cipher(message_to_decode, keyword))\n",
    "\n",
    "\n",
    "\n",
    "\n",
    "\n"
   ]
  },
  {
   "cell_type": "markdown",
   "metadata": {
    "collapsed": true
   },
   "source": [
    "#### Step 6: Send a message with the  Vigenère Cipher\n",
    "Great work decoding the message. For your final task, write a function that can encode a message using a given keyword and write out a message to send to Vishal!\n",
    "\n",
    "*As a bonus, try calling your decoder function on the result of your encryption function. You should get the original message back!*"
   ]
  },
  {
   "cell_type": "code",
   "execution_count": 7,
   "metadata": {},
   "outputs": [
    {
     "name": "stdout",
     "output_type": "stream",
     "text": [
      "jznka qbr vge quspeyft ju zbt jg hpu uevflbdhsceo. a jfbd pldlvkkw fbdvvkw qbr vmgrhw zbiknduk\n",
      "thank you for teaching me how to use cryptography. i will continue sending you future messages\n"
     ]
    }
   ],
   "source": [
    "# -26 is the highest possible index. It is equal to a. Lets subtract from the original to the keyword character\n",
    "# print(alphabet_list[-26])\n",
    "# Define a function to calculate the index of each character in the original message\n",
    "\n",
    "# original is the string of message we want to encode, bubshu is the message with the keyword phrase substitute\n",
    "# so, it takes a number, a string, and a list\n",
    "def encode_distance(index, message_string, replicated_keyword_list):                           # Let's make the function take in values of index (the position of the character), original (the main message we have to encode)\n",
    "    j = 1                                                       \n",
    "    i = find_character_index(message_string[index])                           # based on the position of the character in the substitued list, it gives the position of the character\n",
    "    while i > -27:\n",
    "        i -= 1\n",
    "        if alphabet_list[i] == replicated_keyword_list[index]:\n",
    "           break\n",
    "        j += 1\n",
    "    if j == 26:\n",
    "        return 0\n",
    "    return(j)\n",
    "\n",
    "def encode_vigenere_cipher(message, keyword):\n",
    "    encoded_list = convert_message_to_keyword(message, keyword) \n",
    "                    \n",
    "    i = 0\n",
    "    new_list = []\n",
    "    while i < len(encoded_list):\n",
    "        if encoded_list[i] in alphabet_list:\n",
    "            xyz = encode_distance(i, message, encoded_list)\n",
    "            new_list.append(alphabet_list[xyz])\n",
    "        else:\n",
    "            new_list.append(encoded_list[i])\n",
    "        i += 1 \n",
    "    \n",
    "    coded_vigenere_message = \"\".join(new_list)                          # Turned the coded list to a coded string and returns this value to this function\n",
    "\n",
    "    return coded_vigenere_message\n",
    "\n",
    "message_to_encode = \"thank you for teaching me how to use cryptography. i will continue sending you future messages\"\n",
    "key_word = \"kind\"\n",
    "print(encode_vigenere_cipher(message_to_encode, key_word))\n",
    "\n",
    "# To check if decoding vigenere cipher function works, and this looks good. \n",
    "print(decode_vigenere_cipher(encode_vigenere_cipher(message_to_encode, key_word), key_word))\n"
   ]
  },
  {
   "cell_type": "markdown",
   "metadata": {},
   "source": [
    "#### Conclusion\n",
    "Over the course of this project you've learned about two different cipher methods and have used your Python skills to code and decode messages. There are all types of other facinating ciphers out there to explore, and Python is the perfect language to implement them with, so go exploring! "
   ]
  }
 ],
 "metadata": {
  "kernelspec": {
   "display_name": "Python 3",
   "language": "python",
   "name": "python3"
  },
  "language_info": {
   "codemirror_mode": {
    "name": "ipython",
    "version": 3
   },
   "file_extension": ".py",
   "mimetype": "text/x-python",
   "name": "python",
   "nbconvert_exporter": "python",
   "pygments_lexer": "ipython3",
   "version": "3.9.6"
  }
 },
 "nbformat": 4,
 "nbformat_minor": 2
}
